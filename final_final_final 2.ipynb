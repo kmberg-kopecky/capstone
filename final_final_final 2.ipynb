{
  "nbformat": 4,
  "nbformat_minor": 0,
  "metadata": {
    "colab": {
      "provenance": [],
      "include_colab_link": true
    },
    "kernelspec": {
      "name": "python3",
      "display_name": "Python 3"
    }
  },
  "cells": [
    {
      "cell_type": "markdown",
      "metadata": {
        "id": "view-in-github",
        "colab_type": "text"
      },
      "source": [
        "<a href=\"https://colab.research.google.com/github/kmberg-kopecky/capstone/blob/main/final_final_final%202.ipynb\" target=\"_parent\"><img src=\"https://colab.research.google.com/assets/colab-badge.svg\" alt=\"Open In Colab\"/></a>"
      ]
    },
    {
      "cell_type": "markdown",
      "metadata": {
        "id": "r3cas2_1T98w"
      },
      "source": [
        "# Decision Tree Regression"
      ]
    },
    {
      "cell_type": "markdown",
      "metadata": {
        "id": "IODliia6U1xO"
      },
      "source": [
        "## Importing the libraries"
      ]
    },
    {
      "cell_type": "code",
      "metadata": {
        "id": "y98nA5UdU6Hf",
        "colab": {
          "base_uri": "https://localhost:8080/",
          "height": 73
        },
        "outputId": "a3006472-99e7-4c38-e512-b74e859eb479"
      },
      "source": [
        "import numpy as np\n",
        "import matplotlib.pyplot as plt\n",
        "import pandas as pd\n",
        "from sklearn import metrics\n",
        "import io\n",
        "\n",
        "\n",
        "from google.colab import files\n",
        "\n",
        "uploaded = files.upload()\n"
      ],
      "execution_count": 4,
      "outputs": [
        {
          "output_type": "display_data",
          "data": {
            "text/plain": [
              "<IPython.core.display.HTML object>"
            ],
            "text/html": [
              "\n",
              "     <input type=\"file\" id=\"files-fb81b126-84b7-498b-8331-4eb267d9f207\" name=\"files[]\" multiple disabled\n",
              "        style=\"border:none\" />\n",
              "     <output id=\"result-fb81b126-84b7-498b-8331-4eb267d9f207\">\n",
              "      Upload widget is only available when the cell has been executed in the\n",
              "      current browser session. Please rerun this cell to enable.\n",
              "      </output>\n",
              "      <script>// Copyright 2017 Google LLC\n",
              "//\n",
              "// Licensed under the Apache License, Version 2.0 (the \"License\");\n",
              "// you may not use this file except in compliance with the License.\n",
              "// You may obtain a copy of the License at\n",
              "//\n",
              "//      http://www.apache.org/licenses/LICENSE-2.0\n",
              "//\n",
              "// Unless required by applicable law or agreed to in writing, software\n",
              "// distributed under the License is distributed on an \"AS IS\" BASIS,\n",
              "// WITHOUT WARRANTIES OR CONDITIONS OF ANY KIND, either express or implied.\n",
              "// See the License for the specific language governing permissions and\n",
              "// limitations under the License.\n",
              "\n",
              "/**\n",
              " * @fileoverview Helpers for google.colab Python module.\n",
              " */\n",
              "(function(scope) {\n",
              "function span(text, styleAttributes = {}) {\n",
              "  const element = document.createElement('span');\n",
              "  element.textContent = text;\n",
              "  for (const key of Object.keys(styleAttributes)) {\n",
              "    element.style[key] = styleAttributes[key];\n",
              "  }\n",
              "  return element;\n",
              "}\n",
              "\n",
              "// Max number of bytes which will be uploaded at a time.\n",
              "const MAX_PAYLOAD_SIZE = 100 * 1024;\n",
              "\n",
              "function _uploadFiles(inputId, outputId) {\n",
              "  const steps = uploadFilesStep(inputId, outputId);\n",
              "  const outputElement = document.getElementById(outputId);\n",
              "  // Cache steps on the outputElement to make it available for the next call\n",
              "  // to uploadFilesContinue from Python.\n",
              "  outputElement.steps = steps;\n",
              "\n",
              "  return _uploadFilesContinue(outputId);\n",
              "}\n",
              "\n",
              "// This is roughly an async generator (not supported in the browser yet),\n",
              "// where there are multiple asynchronous steps and the Python side is going\n",
              "// to poll for completion of each step.\n",
              "// This uses a Promise to block the python side on completion of each step,\n",
              "// then passes the result of the previous step as the input to the next step.\n",
              "function _uploadFilesContinue(outputId) {\n",
              "  const outputElement = document.getElementById(outputId);\n",
              "  const steps = outputElement.steps;\n",
              "\n",
              "  const next = steps.next(outputElement.lastPromiseValue);\n",
              "  return Promise.resolve(next.value.promise).then((value) => {\n",
              "    // Cache the last promise value to make it available to the next\n",
              "    // step of the generator.\n",
              "    outputElement.lastPromiseValue = value;\n",
              "    return next.value.response;\n",
              "  });\n",
              "}\n",
              "\n",
              "/**\n",
              " * Generator function which is called between each async step of the upload\n",
              " * process.\n",
              " * @param {string} inputId Element ID of the input file picker element.\n",
              " * @param {string} outputId Element ID of the output display.\n",
              " * @return {!Iterable<!Object>} Iterable of next steps.\n",
              " */\n",
              "function* uploadFilesStep(inputId, outputId) {\n",
              "  const inputElement = document.getElementById(inputId);\n",
              "  inputElement.disabled = false;\n",
              "\n",
              "  const outputElement = document.getElementById(outputId);\n",
              "  outputElement.innerHTML = '';\n",
              "\n",
              "  const pickedPromise = new Promise((resolve) => {\n",
              "    inputElement.addEventListener('change', (e) => {\n",
              "      resolve(e.target.files);\n",
              "    });\n",
              "  });\n",
              "\n",
              "  const cancel = document.createElement('button');\n",
              "  inputElement.parentElement.appendChild(cancel);\n",
              "  cancel.textContent = 'Cancel upload';\n",
              "  const cancelPromise = new Promise((resolve) => {\n",
              "    cancel.onclick = () => {\n",
              "      resolve(null);\n",
              "    };\n",
              "  });\n",
              "\n",
              "  // Wait for the user to pick the files.\n",
              "  const files = yield {\n",
              "    promise: Promise.race([pickedPromise, cancelPromise]),\n",
              "    response: {\n",
              "      action: 'starting',\n",
              "    }\n",
              "  };\n",
              "\n",
              "  cancel.remove();\n",
              "\n",
              "  // Disable the input element since further picks are not allowed.\n",
              "  inputElement.disabled = true;\n",
              "\n",
              "  if (!files) {\n",
              "    return {\n",
              "      response: {\n",
              "        action: 'complete',\n",
              "      }\n",
              "    };\n",
              "  }\n",
              "\n",
              "  for (const file of files) {\n",
              "    const li = document.createElement('li');\n",
              "    li.append(span(file.name, {fontWeight: 'bold'}));\n",
              "    li.append(span(\n",
              "        `(${file.type || 'n/a'}) - ${file.size} bytes, ` +\n",
              "        `last modified: ${\n",
              "            file.lastModifiedDate ? file.lastModifiedDate.toLocaleDateString() :\n",
              "                                    'n/a'} - `));\n",
              "    const percent = span('0% done');\n",
              "    li.appendChild(percent);\n",
              "\n",
              "    outputElement.appendChild(li);\n",
              "\n",
              "    const fileDataPromise = new Promise((resolve) => {\n",
              "      const reader = new FileReader();\n",
              "      reader.onload = (e) => {\n",
              "        resolve(e.target.result);\n",
              "      };\n",
              "      reader.readAsArrayBuffer(file);\n",
              "    });\n",
              "    // Wait for the data to be ready.\n",
              "    let fileData = yield {\n",
              "      promise: fileDataPromise,\n",
              "      response: {\n",
              "        action: 'continue',\n",
              "      }\n",
              "    };\n",
              "\n",
              "    // Use a chunked sending to avoid message size limits. See b/62115660.\n",
              "    let position = 0;\n",
              "    do {\n",
              "      const length = Math.min(fileData.byteLength - position, MAX_PAYLOAD_SIZE);\n",
              "      const chunk = new Uint8Array(fileData, position, length);\n",
              "      position += length;\n",
              "\n",
              "      const base64 = btoa(String.fromCharCode.apply(null, chunk));\n",
              "      yield {\n",
              "        response: {\n",
              "          action: 'append',\n",
              "          file: file.name,\n",
              "          data: base64,\n",
              "        },\n",
              "      };\n",
              "\n",
              "      let percentDone = fileData.byteLength === 0 ?\n",
              "          100 :\n",
              "          Math.round((position / fileData.byteLength) * 100);\n",
              "      percent.textContent = `${percentDone}% done`;\n",
              "\n",
              "    } while (position < fileData.byteLength);\n",
              "  }\n",
              "\n",
              "  // All done.\n",
              "  yield {\n",
              "    response: {\n",
              "      action: 'complete',\n",
              "    }\n",
              "  };\n",
              "}\n",
              "\n",
              "scope.google = scope.google || {};\n",
              "scope.google.colab = scope.google.colab || {};\n",
              "scope.google.colab._files = {\n",
              "  _uploadFiles,\n",
              "  _uploadFilesContinue,\n",
              "};\n",
              "})(self);\n",
              "</script> "
            ]
          },
          "metadata": {}
        },
        {
          "output_type": "stream",
          "name": "stdout",
          "text": [
            "Saving mushroom data final.csv to mushroom data final.csv\n"
          ]
        }
      ]
    },
    {
      "cell_type": "markdown",
      "metadata": {
        "id": "jpjZ43YlU8eI"
      },
      "source": [
        "## Importing the dataset"
      ]
    },
    {
      "cell_type": "code",
      "source": [
        "#from google.colab import drive\n",
        "#drive.mount('/content/drive')\n"
      ],
      "metadata": {
        "id": "ac85HJSkgruV"
      },
      "execution_count": null,
      "outputs": []
    },
    {
      "cell_type": "code",
      "metadata": {
        "id": "pLVaXoYVU_Uy"
      },
      "source": [
        "#dataset = pd.read_csv('/content/drive/MyDrive/final proj/mushroom data final.csv')\n",
        "dataset = pd.read_csv(io.BytesIO(uploaded['mushroom data final.csv']))"
      ],
      "execution_count": 5,
      "outputs": []
    },
    {
      "cell_type": "code",
      "source": [
        "from sklearn.preprocessing import LabelEncoder\n",
        "label_encoder = LabelEncoder()\n",
        "dataset['cap-shape'] = label_encoder.fit_transform(dataset['cap-shape'])\n",
        "dataset['cap-shape'].unique()\n",
        "print(dataset['cap-shape'])\n",
        "\n",
        "# 0 -> b = bell\n",
        "# 1 -> f = flat\n",
        "# 2 -> s = sunken\n",
        "# 3 -> x = convex"
      ],
      "metadata": {
        "collapsed": true,
        "id": "bnwpnpxb_ISY"
      },
      "execution_count": null,
      "outputs": []
    },
    {
      "cell_type": "code",
      "source": [
        "label_encoder = LabelEncoder()\n",
        "dataset['cap-surface'] = label_encoder.fit_transform(dataset['cap-surface'])\n",
        "dataset['cap-surface'].unique()\n",
        "print(dataset['cap-surface'])\n",
        "\n",
        "# 0 -> f = fibrous\n",
        "# 1 -> s = smooth\n",
        "# 2 -> y = scaly\n",
        "label_encoder = LabelEncoder()\n",
        "dataset['cap-color'] = label_encoder.fit_transform(dataset['cap-color'])\n",
        "dataset['cap-color'].unique()\n",
        "print(dataset['cap-color'])\n",
        "\n",
        "# 0 -> g = grey\n",
        "# 1 -> n = brown\n",
        "# 2 -> w = white\n",
        "# 3 -> y = yellow\n",
        "label_encoder = LabelEncoder()\n",
        "dataset['odor'] = label_encoder.fit_transform(dataset['odor'])\n",
        "dataset['odor'].unique()\n",
        "print(dataset['odor'])\n",
        "\n",
        "# 0 -> a = almond\n",
        "# 1 -> l = anise\n",
        "# 2 -> n = none\n",
        "# 3 -> p = pungent"
      ],
      "metadata": {
        "collapsed": true,
        "id": "xJIMQuOCBz4p"
      },
      "execution_count": null,
      "outputs": []
    },
    {
      "cell_type": "code",
      "source": [
        "label_encoder = LabelEncoder()\n",
        "dataset['gill-spacing'] = label_encoder.fit_transform(dataset['gill-spacing'])\n",
        "dataset['gill-spacing'].unique()\n",
        "print(dataset['gill-spacing'])\n",
        "\n",
        "# 0 -> c = close\n",
        "# 1 -> w = crowded\n",
        "label_encoder = LabelEncoder()\n",
        "dataset['gill-color'] = label_encoder.fit_transform(dataset['gill-color'])\n",
        "dataset['gill-color'].unique()\n",
        "print(dataset['gill-color'])\n",
        "\n",
        "\n",
        "# 0 -> g = grey\n",
        "# 1 -> h = chocolate\n",
        "# 2 -> k = black\n",
        "# 3 -> n = brown\n",
        "# 4 -> p = pink\n",
        "# 5 -> w = white\n",
        "\n",
        "label_encoder = LabelEncoder()\n",
        "dataset['stalk-shape'] = label_encoder.fit_transform(dataset['stalk-shape'])\n",
        "dataset['stalk-shape'].unique()\n",
        "print(dataset['stalk-shape'])\n",
        "\n",
        "# 0 -> e = enlarging\n",
        "# 1 -> t = tapering"
      ],
      "metadata": {
        "collapsed": true,
        "id": "3pdEsQ43EM-V"
      },
      "execution_count": null,
      "outputs": []
    },
    {
      "cell_type": "code",
      "source": [
        "label_encoder = LabelEncoder()\n",
        "dataset['population'] = label_encoder.fit_transform(dataset['population'])\n",
        "dataset['population'].unique()\n",
        "print(dataset['population'])\n",
        "\n",
        "# 0 -> a = abundant\n",
        "# 1 -> n = numerous\n",
        "# 2 -> s = scattered\n",
        "# 3 -> v = several\n",
        "# 4 -> y = solitary\n",
        "\n",
        "label_encoder = LabelEncoder()\n",
        "dataset['habitat'] = label_encoder.fit_transform(dataset['habitat'])\n",
        "dataset['habitat'].unique()\n",
        "print(dataset['habitat'])\n",
        "\n",
        "# 0 -> d = woods\n",
        "# 1 -> g = grasses\n",
        "# 2 -> m = meadows\n",
        "# 3 -> p = paths\n",
        "# 4 -> u = urban\n",
        "\n",
        "label_encoder = LabelEncoder()\n",
        "dataset['class'] = label_encoder.fit_transform(dataset['class'])\n",
        "dataset['class'].unique()\n",
        "print(dataset['class'])\n",
        "\n",
        "# 0 -> e = edible\n",
        "# 1 -> p = poisonous\n",
        "\n"
      ],
      "metadata": {
        "id": "ld4wjFtuB0YB",
        "collapsed": true
      },
      "execution_count": null,
      "outputs": []
    },
    {
      "cell_type": "code",
      "source": [
        "from google.colab import drive\n",
        "drive.mount('/content/drive')"
      ],
      "metadata": {
        "id": "lEhbicK9onS-"
      },
      "execution_count": null,
      "outputs": []
    },
    {
      "cell_type": "markdown",
      "metadata": {
        "id": "g16qFkFQVC35"
      },
      "source": [
        "## Training the Decision Tree Regression model on the whole dataset"
      ]
    },
    {
      "cell_type": "code",
      "source": [
        "x = dataset.iloc[:, 0:9].values\n",
        "y = dataset.iloc[:, 9].values"
      ],
      "metadata": {
        "id": "QGuPSQVXLjBC"
      },
      "execution_count": null,
      "outputs": []
    },
    {
      "cell_type": "code",
      "metadata": {
        "id": "SLDKyv1SVUqS",
        "collapsed": true
      },
      "source": [
        "from sklearn.tree import DecisionTreeRegressor\n",
        "regressor = DecisionTreeRegressor(random_state = 0)\n",
        "regressor.fit(x,y)\n",
        "\n"
      ],
      "execution_count": null,
      "outputs": []
    },
    {
      "cell_type": "markdown",
      "metadata": {
        "id": "MQRGPTH3VcOn"
      },
      "source": [
        "## Predicting a new result"
      ]
    },
    {
      "cell_type": "code",
      "metadata": {
        "id": "_FpGZf7vVgrK"
      },
      "source": [
        "#Test with unseen data\n",
        "#Answer should be 0\n",
        "\n",
        "regressor.predict([[3,2,2,0,0,3,0,2,1]])"
      ],
      "execution_count": null,
      "outputs": []
    },
    {
      "cell_type": "code",
      "source": [
        "#Test with unseen data\n",
        "#Answer should be 0\n",
        "\n",
        "regressor.predict([[0,1,3,1,0,5,0,1,2]])"
      ],
      "metadata": {
        "id": "y3wlpryDux7I"
      },
      "execution_count": null,
      "outputs": []
    },
    {
      "cell_type": "code",
      "source": [
        "#Test with unseen data\n",
        "#Answer should be 0\n",
        "\n",
        "regressor.predict([[3,1,3,0,0,5,0,1,1]])"
      ],
      "metadata": {
        "id": "goDuO0jMvPat"
      },
      "execution_count": null,
      "outputs": []
    },
    {
      "cell_type": "code",
      "source": [
        "#Test with unseen data\n",
        "#Answer should be 0\n",
        "\n",
        "regressor.predict([[0,2,3,0,0,0,0,1,1]])"
      ],
      "metadata": {
        "id": "a4NDoMS7vTyb"
      },
      "execution_count": null,
      "outputs": []
    },
    {
      "cell_type": "code",
      "source": [
        "#Test with unseen data\n",
        "#Answer should be 0\n",
        "\n",
        "regressor.predict([[3,2,2,0,0,3,0,2,1]])"
      ],
      "metadata": {
        "id": "pPPTJagIvgtD"
      },
      "execution_count": null,
      "outputs": []
    },
    {
      "cell_type": "code",
      "source": [
        "#Test with unseen data\n",
        "#Answer should be 0\n",
        "\n",
        "regressor.predict([[3,1,2,1,0,0,0,1,2]])"
      ],
      "metadata": {
        "id": "4kPUUPOUvlFx"
      },
      "execution_count": null,
      "outputs": []
    },
    {
      "cell_type": "code",
      "source": [
        "#Test with unseen data\n",
        "#Answer should be 0\n",
        "\n",
        "regressor.predict([[0,1,3,0,0,5,0,2,2]])"
      ],
      "metadata": {
        "id": "s3lqnEWyvpZf"
      },
      "execution_count": null,
      "outputs": []
    },
    {
      "cell_type": "code",
      "source": [
        "#Test with unseen data\n",
        "#Answer should be 0\n",
        "\n",
        "regressor.predict([[0,2,3,0,0,5,0,2,1]])"
      ],
      "metadata": {
        "id": "XoEG-YZ7v0OX"
      },
      "execution_count": null,
      "outputs": []
    },
    {
      "cell_type": "code",
      "source": [
        "#Test with unseen data\n",
        "#Answer should be 1\n",
        "regressor.predict([[3,1,1,3,0,3,0,3,1]])"
      ],
      "metadata": {
        "id": "1KkyLW35p6zO"
      },
      "execution_count": null,
      "outputs": []
    },
    {
      "cell_type": "code",
      "source": [
        "#Test with unseen data\n",
        "#Answer should be 1\n",
        "\n",
        "regressor.predict([[3,2,1,3,0,2,0,2,4]])"
      ],
      "metadata": {
        "id": "4BX0MDsjxF0D"
      },
      "execution_count": null,
      "outputs": []
    },
    {
      "cell_type": "code",
      "source": [
        "#Test with unseen data\n",
        "#Answer should be 1\n",
        "\n",
        "regressor.predict([[3,1,1,3,0,2,0,3,4]])"
      ],
      "metadata": {
        "id": "0ow_PzY-xKny"
      },
      "execution_count": null,
      "outputs": []
    },
    {
      "cell_type": "markdown",
      "source": [],
      "metadata": {
        "id": "xNurctbobIm8"
      }
    },
    {
      "source": [
        "input1 = input(\"What is the cap shape?\\n 0 -> bell\\n 1 -> flat\\n 2 -> sunken\\n 3 -> convex:\")\n",
        "\n",
        "input2 = input(\"What is the cap surface?\\n 0 -> fibrous\\n 1 -> smooth\\n 2 -> scaly:\")\n",
        "\n",
        "input3 = input(\"What is the cap color?\\n 0 -> grey\\n 1 -> brown\\n 2 -> white\\n 3 -> yellow:\")\n",
        "\n",
        "input4 = input(\"What is the odor?\\n 0 -> almond\\n 1 -> anise\\n 2 -> none\\n 3 -> pungent:\")\n",
        "\n",
        "input5 = input(\"What is the gill spacing?\\n 0 -> close\\n 1 -> crowded:\")\n",
        "\n",
        "input6 = input(\"What is the gill color?\\n 0 -> grey\\n 1 -> chocolate\\n 2 -> black\\n 3 -> brown\\n 4 -> pink\\n 5 -> white:\")\n",
        "\n",
        "input7 = input(\"What is the stalk shape?\\n 0 -> enlarging\\n 1 -> tapering:\")\n",
        "\n",
        "input8 = input(\"What is the population?\\n 0 -> abundant\\n 1 -> numerous\\n 2 -> scattered\\n 3 -> several\\n 4 -> solitary:\")\n",
        "\n",
        "input9 = input(\"What is the habitat?\\n 0 -> woods\\n 1 -> grasses\\n 2 -> meadows\\n 3 -> paths\\n 4 -> urban:\")\n",
        "\n",
        "\n",
        "new_row = pd.DataFrame([[input1, input2, input3, input4, input5, input6, input7, input8, input9]], columns=['cap-shape','cap-surface','cap-color','odor','gill-spacing','gill-color','stalk-shape','population','habitat']) # Create a new DataFrame from the input\n",
        "dataset = pd.concat([dataset, new_row], ignore_index=True) # Concatenate the new row to the existing DataFrame\n",
        "\n",
        "\n",
        "print(dataset)"
      ],
      "cell_type": "code",
      "metadata": {
        "id": "cq3UEHktgP3M"
      },
      "execution_count": null,
      "outputs": []
    },
    {
      "cell_type": "code",
      "source": [
        "if(regressor.predict([[input1, input2, input3, input4, input5, input6, input7, input8, input9]])==1):\n",
        "  print(\"Poisonous\")\n",
        "else:\n",
        "  print(\"Edible\")"
      ],
      "metadata": {
        "id": "R7Db-FM3xqGt"
      },
      "execution_count": null,
      "outputs": []
    }
  ]
}