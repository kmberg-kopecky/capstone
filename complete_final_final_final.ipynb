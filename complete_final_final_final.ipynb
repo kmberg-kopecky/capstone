{
  "nbformat": 4,
  "nbformat_minor": 0,
  "metadata": {
    "colab": {
      "provenance": [],
      "include_colab_link": true
    },
    "kernelspec": {
      "name": "python3",
      "display_name": "Python 3"
    }
  },
  "cells": [
    {
      "cell_type": "markdown",
      "metadata": {
        "id": "view-in-github",
        "colab_type": "text"
      },
      "source": [
        "<a href=\"https://colab.research.google.com/github/kmberg-kopecky/capstone/blob/main/complete_final_final_final.ipynb\" target=\"_parent\"><img src=\"https://colab.research.google.com/assets/colab-badge.svg\" alt=\"Open In Colab\"/></a>"
      ]
    },
    {
      "cell_type": "markdown",
      "metadata": {
        "id": "r3cas2_1T98w"
      },
      "source": [
        "# Decision Tree Regression"
      ]
    },
    {
      "cell_type": "markdown",
      "metadata": {
        "id": "IODliia6U1xO"
      },
      "source": [
        "## Importing the libraries"
      ]
    },
    {
      "cell_type": "code",
      "metadata": {
        "id": "y98nA5UdU6Hf"
      },
      "source": [
        "import numpy as np\n",
        "import matplotlib.pyplot as plt\n",
        "import pandas as pd\n",
        "from sklearn import metrics\n",
        "\n",
        "url = 'https://raw.githubusercontent.com/kmberg-kopecky/capstone/main/mushroom_data_final.csv'\n",
        "dataset = pd.read_csv(url)\n",
        "\n",
        "#dataset = pd.read_csv(https://github.com/kmberg-kopecky/capstone/blob/main/mushroom_data_final.csv)\n",
        "\n",
        "\n",
        "#from google.colab import files\n",
        "\n",
        "#uploaded = files.upload()\n"
      ],
      "execution_count": 15,
      "outputs": []
    },
    {
      "cell_type": "markdown",
      "metadata": {
        "id": "jpjZ43YlU8eI"
      },
      "source": [
        "## Importing the dataset"
      ]
    },
    {
      "cell_type": "code",
      "source": [
        "#from google.colab import drive\n",
        "#drive.mount('/content/drive')\n"
      ],
      "metadata": {
        "id": "ac85HJSkgruV"
      },
      "execution_count": 16,
      "outputs": []
    },
    {
      "cell_type": "code",
      "metadata": {
        "id": "pLVaXoYVU_Uy"
      },
      "source": [
        "#dataset = pd.read_csv('/content/drive/MyDrive/final proj/mushroom data final.csv')\n",
        "#dataset = pd.read_csv(io.BytesIO(uploaded['mushroom data final.csv']))"
      ],
      "execution_count": 17,
      "outputs": []
    },
    {
      "cell_type": "code",
      "source": [
        "from sklearn.preprocessing import LabelEncoder\n",
        "label_encoder = LabelEncoder()\n",
        "dataset['cap-shape'] = label_encoder.fit_transform(dataset['cap-shape'])\n",
        "dataset['cap-shape'].unique()\n",
        "print(dataset['cap-shape'])\n",
        "\n",
        "# 0 -> b = bell\n",
        "# 1 -> f = flat\n",
        "# 2 -> s = sunken\n",
        "# 3 -> x = convex"
      ],
      "metadata": {
        "collapsed": true,
        "id": "bnwpnpxb_ISY",
        "colab": {
          "base_uri": "https://localhost:8080/"
        },
        "outputId": "12609d52-9f35-437c-c363-3ba07f2cdd15"
      },
      "execution_count": 18,
      "outputs": [
        {
          "output_type": "stream",
          "name": "stdout",
          "text": [
            "0      3\n",
            "1      3\n",
            "2      0\n",
            "3      3\n",
            "4      3\n",
            "      ..\n",
            "244    1\n",
            "245    3\n",
            "246    3\n",
            "247    3\n",
            "248    1\n",
            "Name: cap-shape, Length: 249, dtype: int64\n"
          ]
        }
      ]
    },
    {
      "cell_type": "code",
      "source": [
        "label_encoder = LabelEncoder()\n",
        "dataset['cap-surface'] = label_encoder.fit_transform(dataset['cap-surface'])\n",
        "dataset['cap-surface'].unique()\n",
        "print(dataset['cap-surface'])\n",
        "\n",
        "# 0 -> f = fibrous\n",
        "# 1 -> s = smooth\n",
        "# 2 -> y = scaly\n",
        "label_encoder = LabelEncoder()\n",
        "dataset['cap-color'] = label_encoder.fit_transform(dataset['cap-color'])\n",
        "dataset['cap-color'].unique()\n",
        "print(dataset['cap-color'])\n",
        "\n",
        "# 0 -> g = grey\n",
        "# 1 -> n = brown\n",
        "# 2 -> w = white\n",
        "# 3 -> y = yellow\n",
        "label_encoder = LabelEncoder()\n",
        "dataset['odor'] = label_encoder.fit_transform(dataset['odor'])\n",
        "dataset['odor'].unique()\n",
        "print(dataset['odor'])\n",
        "\n",
        "# 0 -> a = almond\n",
        "# 1 -> l = anise\n",
        "# 2 -> n = none\n",
        "# 3 -> p = pungent"
      ],
      "metadata": {
        "collapsed": true,
        "id": "xJIMQuOCBz4p",
        "colab": {
          "base_uri": "https://localhost:8080/"
        },
        "outputId": "ab8e1138-48d6-4e19-bb1f-3de9ea0e5daf"
      },
      "execution_count": 19,
      "outputs": [
        {
          "output_type": "stream",
          "name": "stdout",
          "text": [
            "0      1\n",
            "1      1\n",
            "2      1\n",
            "3      2\n",
            "4      1\n",
            "      ..\n",
            "244    0\n",
            "245    1\n",
            "246    1\n",
            "247    2\n",
            "248    2\n",
            "Name: cap-surface, Length: 249, dtype: int64\n",
            "0      1\n",
            "1      3\n",
            "2      2\n",
            "3      2\n",
            "4      0\n",
            "      ..\n",
            "244    2\n",
            "245    2\n",
            "246    2\n",
            "247    2\n",
            "248    3\n",
            "Name: cap-color, Length: 249, dtype: int64\n",
            "0      3\n",
            "1      0\n",
            "2      1\n",
            "3      3\n",
            "4      2\n",
            "      ..\n",
            "244    0\n",
            "245    1\n",
            "246    1\n",
            "247    0\n",
            "248    1\n",
            "Name: odor, Length: 249, dtype: int64\n"
          ]
        }
      ]
    },
    {
      "cell_type": "code",
      "source": [
        "label_encoder = LabelEncoder()\n",
        "dataset['gill-spacing'] = label_encoder.fit_transform(dataset['gill-spacing'])\n",
        "dataset['gill-spacing'].unique()\n",
        "print(dataset['gill-spacing'])\n",
        "\n",
        "# 0 -> c = close\n",
        "# 1 -> w = crowded\n",
        "label_encoder = LabelEncoder()\n",
        "dataset['gill-color'] = label_encoder.fit_transform(dataset['gill-color'])\n",
        "dataset['gill-color'].unique()\n",
        "print(dataset['gill-color'])\n",
        "\n",
        "\n",
        "# 0 -> g = grey\n",
        "# 1 -> h = chocolate\n",
        "# 2 -> k = black\n",
        "# 3 -> n = brown\n",
        "# 4 -> p = pink\n",
        "# 5 -> w = white\n",
        "\n",
        "label_encoder = LabelEncoder()\n",
        "dataset['stalk-shape'] = label_encoder.fit_transform(dataset['stalk-shape'])\n",
        "dataset['stalk-shape'].unique()\n",
        "print(dataset['stalk-shape'])\n",
        "\n",
        "# 0 -> e = enlarging\n",
        "# 1 -> t = tapering"
      ],
      "metadata": {
        "collapsed": true,
        "id": "3pdEsQ43EM-V",
        "colab": {
          "base_uri": "https://localhost:8080/"
        },
        "outputId": "ce41f2b2-7273-49ac-e00e-5a04e6dee5e7"
      },
      "execution_count": 20,
      "outputs": [
        {
          "output_type": "stream",
          "name": "stdout",
          "text": [
            "0      0\n",
            "1      0\n",
            "2      0\n",
            "3      0\n",
            "4      1\n",
            "      ..\n",
            "244    1\n",
            "245    0\n",
            "246    1\n",
            "247    0\n",
            "248    0\n",
            "Name: gill-spacing, Length: 249, dtype: int64\n",
            "0      2\n",
            "1      2\n",
            "2      3\n",
            "3      3\n",
            "4      2\n",
            "      ..\n",
            "244    4\n",
            "245    5\n",
            "246    4\n",
            "247    3\n",
            "248    5\n",
            "Name: gill-color, Length: 249, dtype: int64\n",
            "0      0\n",
            "1      0\n",
            "2      0\n",
            "3      0\n",
            "4      1\n",
            "      ..\n",
            "244    1\n",
            "245    0\n",
            "246    1\n",
            "247    0\n",
            "248    0\n",
            "Name: stalk-shape, Length: 249, dtype: int64\n"
          ]
        }
      ]
    },
    {
      "cell_type": "code",
      "source": [
        "label_encoder = LabelEncoder()\n",
        "dataset['population'] = label_encoder.fit_transform(dataset['population'])\n",
        "dataset['population'].unique()\n",
        "print(dataset['population'])\n",
        "\n",
        "# 0 -> a = abundant\n",
        "# 1 -> n = numerous\n",
        "# 2 -> s = scattered\n",
        "# 3 -> v = several\n",
        "# 4 -> y = solitary\n",
        "\n",
        "label_encoder = LabelEncoder()\n",
        "dataset['habitat'] = label_encoder.fit_transform(dataset['habitat'])\n",
        "dataset['habitat'].unique()\n",
        "print(dataset['habitat'])\n",
        "\n",
        "# 0 -> d = woods\n",
        "# 1 -> g = grasses\n",
        "# 2 -> m = meadows\n",
        "# 3 -> p = paths\n",
        "# 4 -> u = urban\n",
        "\n",
        "label_encoder = LabelEncoder()\n",
        "dataset['class'] = label_encoder.fit_transform(dataset['class'])\n",
        "dataset['class'].unique()\n",
        "print(dataset['class'])\n",
        "\n",
        "# 0 -> e = edible\n",
        "# 1 -> p = poisonous\n",
        "\n"
      ],
      "metadata": {
        "id": "ld4wjFtuB0YB",
        "collapsed": true,
        "colab": {
          "base_uri": "https://localhost:8080/"
        },
        "outputId": "9fb18c41-068a-465f-efe9-9b9dae886a38"
      },
      "execution_count": 21,
      "outputs": [
        {
          "output_type": "stream",
          "name": "stdout",
          "text": [
            "0      2\n",
            "1      1\n",
            "2      1\n",
            "3      2\n",
            "4      0\n",
            "      ..\n",
            "244    3\n",
            "245    2\n",
            "246    3\n",
            "247    2\n",
            "248    4\n",
            "Name: population, Length: 249, dtype: int64\n",
            "0      4\n",
            "1      1\n",
            "2      2\n",
            "3      4\n",
            "4      1\n",
            "      ..\n",
            "244    0\n",
            "245    1\n",
            "246    0\n",
            "247    2\n",
            "248    3\n",
            "Name: habitat, Length: 249, dtype: int64\n",
            "0      1\n",
            "1      0\n",
            "2      0\n",
            "3      1\n",
            "4      0\n",
            "      ..\n",
            "244    0\n",
            "245    0\n",
            "246    0\n",
            "247    0\n",
            "248    0\n",
            "Name: class, Length: 249, dtype: int64\n"
          ]
        }
      ]
    },
    {
      "cell_type": "code",
      "source": [
        "#from google.colab import drive\n",
        "#drive.mount('/content/drive')"
      ],
      "metadata": {
        "id": "lEhbicK9onS-"
      },
      "execution_count": 22,
      "outputs": []
    },
    {
      "cell_type": "markdown",
      "metadata": {
        "id": "g16qFkFQVC35"
      },
      "source": [
        "## Training the Decision Tree Regression model on the whole dataset"
      ]
    },
    {
      "cell_type": "code",
      "source": [
        "x = dataset.iloc[:, 0:9].values\n",
        "y = dataset.iloc[:, 9].values"
      ],
      "metadata": {
        "id": "QGuPSQVXLjBC"
      },
      "execution_count": 23,
      "outputs": []
    },
    {
      "cell_type": "code",
      "metadata": {
        "id": "SLDKyv1SVUqS",
        "collapsed": true,
        "colab": {
          "base_uri": "https://localhost:8080/",
          "height": 75
        },
        "outputId": "56263f51-996a-4236-afc8-aaac2c4ed679"
      },
      "source": [
        "from sklearn.tree import DecisionTreeRegressor\n",
        "regressor = DecisionTreeRegressor(random_state = 0)\n",
        "regressor.fit(x,y)\n",
        "\n"
      ],
      "execution_count": 24,
      "outputs": [
        {
          "output_type": "execute_result",
          "data": {
            "text/plain": [
              "DecisionTreeRegressor(random_state=0)"
            ],
            "text/html": [
              "<style>#sk-container-id-1 {color: black;background-color: white;}#sk-container-id-1 pre{padding: 0;}#sk-container-id-1 div.sk-toggleable {background-color: white;}#sk-container-id-1 label.sk-toggleable__label {cursor: pointer;display: block;width: 100%;margin-bottom: 0;padding: 0.3em;box-sizing: border-box;text-align: center;}#sk-container-id-1 label.sk-toggleable__label-arrow:before {content: \"▸\";float: left;margin-right: 0.25em;color: #696969;}#sk-container-id-1 label.sk-toggleable__label-arrow:hover:before {color: black;}#sk-container-id-1 div.sk-estimator:hover label.sk-toggleable__label-arrow:before {color: black;}#sk-container-id-1 div.sk-toggleable__content {max-height: 0;max-width: 0;overflow: hidden;text-align: left;background-color: #f0f8ff;}#sk-container-id-1 div.sk-toggleable__content pre {margin: 0.2em;color: black;border-radius: 0.25em;background-color: #f0f8ff;}#sk-container-id-1 input.sk-toggleable__control:checked~div.sk-toggleable__content {max-height: 200px;max-width: 100%;overflow: auto;}#sk-container-id-1 input.sk-toggleable__control:checked~label.sk-toggleable__label-arrow:before {content: \"▾\";}#sk-container-id-1 div.sk-estimator input.sk-toggleable__control:checked~label.sk-toggleable__label {background-color: #d4ebff;}#sk-container-id-1 div.sk-label input.sk-toggleable__control:checked~label.sk-toggleable__label {background-color: #d4ebff;}#sk-container-id-1 input.sk-hidden--visually {border: 0;clip: rect(1px 1px 1px 1px);clip: rect(1px, 1px, 1px, 1px);height: 1px;margin: -1px;overflow: hidden;padding: 0;position: absolute;width: 1px;}#sk-container-id-1 div.sk-estimator {font-family: monospace;background-color: #f0f8ff;border: 1px dotted black;border-radius: 0.25em;box-sizing: border-box;margin-bottom: 0.5em;}#sk-container-id-1 div.sk-estimator:hover {background-color: #d4ebff;}#sk-container-id-1 div.sk-parallel-item::after {content: \"\";width: 100%;border-bottom: 1px solid gray;flex-grow: 1;}#sk-container-id-1 div.sk-label:hover label.sk-toggleable__label {background-color: #d4ebff;}#sk-container-id-1 div.sk-serial::before {content: \"\";position: absolute;border-left: 1px solid gray;box-sizing: border-box;top: 0;bottom: 0;left: 50%;z-index: 0;}#sk-container-id-1 div.sk-serial {display: flex;flex-direction: column;align-items: center;background-color: white;padding-right: 0.2em;padding-left: 0.2em;position: relative;}#sk-container-id-1 div.sk-item {position: relative;z-index: 1;}#sk-container-id-1 div.sk-parallel {display: flex;align-items: stretch;justify-content: center;background-color: white;position: relative;}#sk-container-id-1 div.sk-item::before, #sk-container-id-1 div.sk-parallel-item::before {content: \"\";position: absolute;border-left: 1px solid gray;box-sizing: border-box;top: 0;bottom: 0;left: 50%;z-index: -1;}#sk-container-id-1 div.sk-parallel-item {display: flex;flex-direction: column;z-index: 1;position: relative;background-color: white;}#sk-container-id-1 div.sk-parallel-item:first-child::after {align-self: flex-end;width: 50%;}#sk-container-id-1 div.sk-parallel-item:last-child::after {align-self: flex-start;width: 50%;}#sk-container-id-1 div.sk-parallel-item:only-child::after {width: 0;}#sk-container-id-1 div.sk-dashed-wrapped {border: 1px dashed gray;margin: 0 0.4em 0.5em 0.4em;box-sizing: border-box;padding-bottom: 0.4em;background-color: white;}#sk-container-id-1 div.sk-label label {font-family: monospace;font-weight: bold;display: inline-block;line-height: 1.2em;}#sk-container-id-1 div.sk-label-container {text-align: center;}#sk-container-id-1 div.sk-container {/* jupyter's `normalize.less` sets `[hidden] { display: none; }` but bootstrap.min.css set `[hidden] { display: none !important; }` so we also need the `!important` here to be able to override the default hidden behavior on the sphinx rendered scikit-learn.org. See: https://github.com/scikit-learn/scikit-learn/issues/21755 */display: inline-block !important;position: relative;}#sk-container-id-1 div.sk-text-repr-fallback {display: none;}</style><div id=\"sk-container-id-1\" class=\"sk-top-container\"><div class=\"sk-text-repr-fallback\"><pre>DecisionTreeRegressor(random_state=0)</pre><b>In a Jupyter environment, please rerun this cell to show the HTML representation or trust the notebook. <br />On GitHub, the HTML representation is unable to render, please try loading this page with nbviewer.org.</b></div><div class=\"sk-container\" hidden><div class=\"sk-item\"><div class=\"sk-estimator sk-toggleable\"><input class=\"sk-toggleable__control sk-hidden--visually\" id=\"sk-estimator-id-1\" type=\"checkbox\" checked><label for=\"sk-estimator-id-1\" class=\"sk-toggleable__label sk-toggleable__label-arrow\">DecisionTreeRegressor</label><div class=\"sk-toggleable__content\"><pre>DecisionTreeRegressor(random_state=0)</pre></div></div></div></div></div>"
            ]
          },
          "metadata": {},
          "execution_count": 24
        }
      ]
    },
    {
      "cell_type": "markdown",
      "metadata": {
        "id": "MQRGPTH3VcOn"
      },
      "source": [
        "## Predicting a new result"
      ]
    },
    {
      "cell_type": "code",
      "metadata": {
        "id": "_FpGZf7vVgrK",
        "colab": {
          "base_uri": "https://localhost:8080/"
        },
        "outputId": "08b8c691-36a5-4be3-e226-fca9ee1d73d6"
      },
      "source": [
        "#Test with unseen data\n",
        "#Answer should be 0\n",
        "\n",
        "regressor.predict([[3,2,2,0,0,3,0,2,1]])"
      ],
      "execution_count": 25,
      "outputs": [
        {
          "output_type": "execute_result",
          "data": {
            "text/plain": [
              "array([0.])"
            ]
          },
          "metadata": {},
          "execution_count": 25
        }
      ]
    },
    {
      "cell_type": "code",
      "source": [
        "#Test with unseen data\n",
        "#Answer should be 0\n",
        "\n",
        "regressor.predict([[0,1,3,1,0,5,0,1,2]])"
      ],
      "metadata": {
        "id": "y3wlpryDux7I",
        "colab": {
          "base_uri": "https://localhost:8080/"
        },
        "outputId": "16b4f217-7992-4fda-fa89-9caa15541270"
      },
      "execution_count": 26,
      "outputs": [
        {
          "output_type": "execute_result",
          "data": {
            "text/plain": [
              "array([0.])"
            ]
          },
          "metadata": {},
          "execution_count": 26
        }
      ]
    },
    {
      "cell_type": "code",
      "source": [
        "#Test with unseen data\n",
        "#Answer should be 0\n",
        "\n",
        "regressor.predict([[3,1,3,0,0,5,0,1,1]])"
      ],
      "metadata": {
        "id": "goDuO0jMvPat",
        "colab": {
          "base_uri": "https://localhost:8080/"
        },
        "outputId": "bc87211a-d861-4083-e3cd-5cdb9b87fa77"
      },
      "execution_count": 27,
      "outputs": [
        {
          "output_type": "execute_result",
          "data": {
            "text/plain": [
              "array([0.])"
            ]
          },
          "metadata": {},
          "execution_count": 27
        }
      ]
    },
    {
      "cell_type": "code",
      "source": [
        "#Test with unseen data\n",
        "#Answer should be 0\n",
        "\n",
        "regressor.predict([[0,2,3,0,0,0,0,1,1]])"
      ],
      "metadata": {
        "id": "a4NDoMS7vTyb",
        "colab": {
          "base_uri": "https://localhost:8080/"
        },
        "outputId": "7f138ec3-5b2a-4831-e13e-8efc7a03ea1e"
      },
      "execution_count": 28,
      "outputs": [
        {
          "output_type": "execute_result",
          "data": {
            "text/plain": [
              "array([0.])"
            ]
          },
          "metadata": {},
          "execution_count": 28
        }
      ]
    },
    {
      "cell_type": "code",
      "source": [
        "#Test with unseen data\n",
        "#Answer should be 0\n",
        "\n",
        "regressor.predict([[3,2,2,0,0,3,0,2,1]])"
      ],
      "metadata": {
        "id": "pPPTJagIvgtD",
        "colab": {
          "base_uri": "https://localhost:8080/"
        },
        "outputId": "fba035cc-5277-46bb-c942-4c35cd9b0bf5"
      },
      "execution_count": 29,
      "outputs": [
        {
          "output_type": "execute_result",
          "data": {
            "text/plain": [
              "array([0.])"
            ]
          },
          "metadata": {},
          "execution_count": 29
        }
      ]
    },
    {
      "cell_type": "code",
      "source": [
        "#Test with unseen data\n",
        "#Answer should be 0\n",
        "\n",
        "regressor.predict([[3,1,2,1,0,0,0,1,2]])"
      ],
      "metadata": {
        "id": "4kPUUPOUvlFx",
        "colab": {
          "base_uri": "https://localhost:8080/"
        },
        "outputId": "46176ee3-a7cb-48a3-b3a4-c4399186ff29"
      },
      "execution_count": 30,
      "outputs": [
        {
          "output_type": "execute_result",
          "data": {
            "text/plain": [
              "array([0.])"
            ]
          },
          "metadata": {},
          "execution_count": 30
        }
      ]
    },
    {
      "cell_type": "code",
      "source": [
        "#Test with unseen data\n",
        "#Answer should be 0\n",
        "\n",
        "regressor.predict([[0,1,3,0,0,5,0,2,2]])"
      ],
      "metadata": {
        "id": "s3lqnEWyvpZf",
        "colab": {
          "base_uri": "https://localhost:8080/"
        },
        "outputId": "6d491dcc-4efe-4ccb-da75-b1c2b0c627de"
      },
      "execution_count": 31,
      "outputs": [
        {
          "output_type": "execute_result",
          "data": {
            "text/plain": [
              "array([0.])"
            ]
          },
          "metadata": {},
          "execution_count": 31
        }
      ]
    },
    {
      "cell_type": "code",
      "source": [
        "#Test with unseen data\n",
        "#Answer should be 0\n",
        "\n",
        "regressor.predict([[0,2,3,0,0,5,0,2,1]])"
      ],
      "metadata": {
        "id": "XoEG-YZ7v0OX",
        "colab": {
          "base_uri": "https://localhost:8080/"
        },
        "outputId": "00c4ac2e-1706-4aad-94f7-31d46bd250c8"
      },
      "execution_count": 32,
      "outputs": [
        {
          "output_type": "execute_result",
          "data": {
            "text/plain": [
              "array([0.])"
            ]
          },
          "metadata": {},
          "execution_count": 32
        }
      ]
    },
    {
      "cell_type": "code",
      "source": [
        "#Test with unseen data\n",
        "#Answer should be 1\n",
        "regressor.predict([[3,1,1,3,0,3,0,3,1]])"
      ],
      "metadata": {
        "id": "1KkyLW35p6zO",
        "colab": {
          "base_uri": "https://localhost:8080/"
        },
        "outputId": "c315828f-a68d-431d-9108-9508e68fb332"
      },
      "execution_count": 33,
      "outputs": [
        {
          "output_type": "execute_result",
          "data": {
            "text/plain": [
              "array([1.])"
            ]
          },
          "metadata": {},
          "execution_count": 33
        }
      ]
    },
    {
      "cell_type": "code",
      "source": [
        "#Test with unseen data\n",
        "#Answer should be 1\n",
        "\n",
        "regressor.predict([[3,2,1,3,0,2,0,2,4]])"
      ],
      "metadata": {
        "id": "4BX0MDsjxF0D",
        "colab": {
          "base_uri": "https://localhost:8080/"
        },
        "outputId": "89b1a53d-db6e-4d43-8975-a11d40c839dd"
      },
      "execution_count": 34,
      "outputs": [
        {
          "output_type": "execute_result",
          "data": {
            "text/plain": [
              "array([1.])"
            ]
          },
          "metadata": {},
          "execution_count": 34
        }
      ]
    },
    {
      "cell_type": "code",
      "source": [
        "#Test with unseen data\n",
        "#Answer should be 1\n",
        "\n",
        "regressor.predict([[3,1,1,3,0,2,0,3,4]])"
      ],
      "metadata": {
        "id": "0ow_PzY-xKny",
        "colab": {
          "base_uri": "https://localhost:8080/"
        },
        "outputId": "e930e4e4-84e9-42c0-c34d-ebe0193ddbc9"
      },
      "execution_count": 35,
      "outputs": [
        {
          "output_type": "execute_result",
          "data": {
            "text/plain": [
              "array([1.])"
            ]
          },
          "metadata": {},
          "execution_count": 35
        }
      ]
    },
    {
      "cell_type": "markdown",
      "source": [],
      "metadata": {
        "id": "xNurctbobIm8"
      }
    },
    {
      "source": [
        "input1 = input(\"What is the cap shape?\\n 0 -> bell\\n 1 -> flat\\n 2 -> sunken\\n 3 -> convex:\")\n",
        "\n",
        "input2 = input(\"What is the cap surface?\\n 0 -> fibrous\\n 1 -> smooth\\n 2 -> scaly:\")\n",
        "\n",
        "input3 = input(\"What is the cap color?\\n 0 -> grey\\n 1 -> brown\\n 2 -> white\\n 3 -> yellow:\")\n",
        "\n",
        "input4 = input(\"What is the odor?\\n 0 -> almond\\n 1 -> anise\\n 2 -> none\\n 3 -> pungent:\")\n",
        "\n",
        "input5 = input(\"What is the gill spacing?\\n 0 -> close\\n 1 -> crowded:\")\n",
        "\n",
        "input6 = input(\"What is the gill color?\\n 0 -> grey\\n 1 -> chocolate\\n 2 -> black\\n 3 -> brown\\n 4 -> pink\\n 5 -> white:\")\n",
        "\n",
        "input7 = input(\"What is the stalk shape?\\n 0 -> enlarging\\n 1 -> tapering:\")\n",
        "\n",
        "input8 = input(\"What is the population?\\n 0 -> abundant\\n 1 -> numerous\\n 2 -> scattered\\n 3 -> several\\n 4 -> solitary:\")\n",
        "\n",
        "input9 = input(\"What is the habitat?\\n 0 -> woods\\n 1 -> grasses\\n 2 -> meadows\\n 3 -> paths\\n 4 -> urban:\")\n",
        "\n",
        "\n",
        "new_row = pd.DataFrame([[input1, input2, input3, input4, input5, input6, input7, input8, input9]], columns=['cap-shape','cap-surface','cap-color','odor','gill-spacing','gill-color','stalk-shape','population','habitat']) # Create a new DataFrame from the input\n",
        "dataset = pd.concat([dataset, new_row], ignore_index=True) # Concatenate the new row to the existing DataFrame\n",
        "\n",
        "\n",
        "print(dataset)"
      ],
      "cell_type": "code",
      "metadata": {
        "id": "cq3UEHktgP3M"
      },
      "execution_count": null,
      "outputs": []
    },
    {
      "cell_type": "code",
      "source": [
        "if(regressor.predict([[input1, input2, input3, input4, input5, input6, input7, input8, input9]])==1):\n",
        "  print(\"Poisonous\")\n",
        "else:\n",
        "  print(\"Edible\")"
      ],
      "metadata": {
        "id": "R7Db-FM3xqGt"
      },
      "execution_count": null,
      "outputs": []
    }
  ]
}