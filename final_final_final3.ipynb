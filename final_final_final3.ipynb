{
  "nbformat": 4,
  "nbformat_minor": 0,
  "metadata": {
    "colab": {
      "provenance": [],
      "include_colab_link": true
    },
    "kernelspec": {
      "name": "python3",
      "display_name": "Python 3"
    }
  },
  "cells": [
    {
      "cell_type": "markdown",
      "metadata": {
        "id": "view-in-github",
        "colab_type": "text"
      },
      "source": [
        "<a href=\"https://colab.research.google.com/github/kmberg-kopecky/capstone/blob/main/final_final_final3.ipynb\" target=\"_parent\"><img src=\"https://colab.research.google.com/assets/colab-badge.svg\" alt=\"Open In Colab\"/></a>"
      ]
    },
    {
      "cell_type": "markdown",
      "metadata": {
        "id": "r3cas2_1T98w"
      },
      "source": [
        "# Decision Tree Regression"
      ]
    },
    {
      "cell_type": "markdown",
      "metadata": {
        "id": "IODliia6U1xO"
      },
      "source": [
        "## Importing the libraries"
      ]
    },
    {
      "cell_type": "code",
      "metadata": {
        "id": "y98nA5UdU6Hf"
      },
      "source": [
        "import numpy as np\n",
        "import matplotlib.pyplot as plt\n",
        "import pandas as pd\n",
        "from sklearn import metrics\n",
        "\n",
        "\n",
        "\n",
        "from google.colab import files\n",
        "\n",
        "#uploaded = files.upload()\n"
      ],
      "execution_count": null,
      "outputs": []
    },
    {
      "cell_type": "markdown",
      "metadata": {
        "id": "jpjZ43YlU8eI"
      },
      "source": [
        "## Importing the dataset"
      ]
    },
    {
      "cell_type": "code",
      "source": [
        "from google.colab import drive\n",
        "drive.mount('/content/drive')\n"
      ],
      "metadata": {
        "id": "ac85HJSkgruV",
        "colab": {
          "base_uri": "https://localhost:8080/"
        },
        "outputId": "231584ee-5ba0-4b7d-af78-12ae9176c80e"
      },
      "execution_count": null,
      "outputs": [
        {
          "output_type": "stream",
          "name": "stdout",
          "text": [
            "Mounted at /content/drive\n"
          ]
        }
      ]
    },
    {
      "cell_type": "code",
      "metadata": {
        "id": "pLVaXoYVU_Uy"
      },
      "source": [
        "dataset = pd.read_csv('/content/drive/MyDrive/final proj/mushroom data final.csv')\n",
        "#dataset = pd.read_csv(io.BytesIO(uploaded['mushroom data final.csv']))"
      ],
      "execution_count": null,
      "outputs": []
    },
    {
      "cell_type": "code",
      "source": [
        "from sklearn.preprocessing import LabelEncoder\n",
        "label_encoder = LabelEncoder()\n",
        "dataset['cap-shape'] = label_encoder.fit_transform(dataset['cap-shape'])\n",
        "dataset['cap-shape'].unique()\n",
        "print(dataset['cap-shape'])\n",
        "\n",
        "# 0 -> b = bell\n",
        "# 1 -> f = flat\n",
        "# 2 -> s = sunken\n",
        "# 3 -> x = convex"
      ],
      "metadata": {
        "collapsed": true,
        "id": "bnwpnpxb_ISY",
        "colab": {
          "base_uri": "https://localhost:8080/"
        },
        "outputId": "ed9cd840-ec04-4eb5-9dbc-bdfb812f1320"
      },
      "execution_count": null,
      "outputs": [
        {
          "output_type": "stream",
          "name": "stdout",
          "text": [
            "0      3\n",
            "1      3\n",
            "2      0\n",
            "3      3\n",
            "4      3\n",
            "      ..\n",
            "244    1\n",
            "245    3\n",
            "246    3\n",
            "247    3\n",
            "248    1\n",
            "Name: cap-shape, Length: 249, dtype: int64\n"
          ]
        }
      ]
    },
    {
      "cell_type": "code",
      "source": [
        "label_encoder = LabelEncoder()\n",
        "dataset['cap-surface'] = label_encoder.fit_transform(dataset['cap-surface'])\n",
        "dataset['cap-surface'].unique()\n",
        "print(dataset['cap-surface'])\n",
        "\n",
        "# 0 -> f = fibrous\n",
        "# 1 -> s = smooth\n",
        "# 2 -> y = scaly\n",
        "label_encoder = LabelEncoder()\n",
        "dataset['cap-color'] = label_encoder.fit_transform(dataset['cap-color'])\n",
        "dataset['cap-color'].unique()\n",
        "print(dataset['cap-color'])\n",
        "\n",
        "# 0 -> g = grey\n",
        "# 1 -> n = brown\n",
        "# 2 -> w = white\n",
        "# 3 -> y = yellow\n",
        "label_encoder = LabelEncoder()\n",
        "dataset['odor'] = label_encoder.fit_transform(dataset['odor'])\n",
        "dataset['odor'].unique()\n",
        "print(dataset['odor'])\n",
        "\n",
        "# 0 -> a = almond\n",
        "# 1 -> l = anise\n",
        "# 2 -> n = none\n",
        "# 3 -> p = pungent"
      ],
      "metadata": {
        "collapsed": true,
        "id": "xJIMQuOCBz4p",
        "colab": {
          "base_uri": "https://localhost:8080/"
        },
        "outputId": "311aba09-a13c-4d5a-dc43-636ca8b21c7b"
      },
      "execution_count": null,
      "outputs": [
        {
          "output_type": "stream",
          "name": "stdout",
          "text": [
            "0      1\n",
            "1      1\n",
            "2      1\n",
            "3      2\n",
            "4      1\n",
            "      ..\n",
            "244    0\n",
            "245    1\n",
            "246    1\n",
            "247    2\n",
            "248    2\n",
            "Name: cap-surface, Length: 249, dtype: int64\n",
            "0      1\n",
            "1      3\n",
            "2      2\n",
            "3      2\n",
            "4      0\n",
            "      ..\n",
            "244    2\n",
            "245    2\n",
            "246    2\n",
            "247    2\n",
            "248    3\n",
            "Name: cap-color, Length: 249, dtype: int64\n",
            "0      3\n",
            "1      0\n",
            "2      1\n",
            "3      3\n",
            "4      2\n",
            "      ..\n",
            "244    0\n",
            "245    1\n",
            "246    1\n",
            "247    0\n",
            "248    1\n",
            "Name: odor, Length: 249, dtype: int64\n"
          ]
        }
      ]
    },
    {
      "cell_type": "code",
      "source": [
        "label_encoder = LabelEncoder()\n",
        "dataset['gill-spacing'] = label_encoder.fit_transform(dataset['gill-spacing'])\n",
        "dataset['gill-spacing'].unique()\n",
        "print(dataset['gill-spacing'])\n",
        "\n",
        "# 0 -> c = close\n",
        "# 1 -> w = crowded\n",
        "label_encoder = LabelEncoder()\n",
        "dataset['gill-color'] = label_encoder.fit_transform(dataset['gill-color'])\n",
        "dataset['gill-color'].unique()\n",
        "print(dataset['gill-color'])\n",
        "\n",
        "\n",
        "# 0 -> g = grey\n",
        "# 1 -> h = chocolate\n",
        "# 2 -> k = black\n",
        "# 3 -> n = brown\n",
        "# 4 -> p = pink\n",
        "# 5 -> w = white\n",
        "\n",
        "label_encoder = LabelEncoder()\n",
        "dataset['stalk-shape'] = label_encoder.fit_transform(dataset['stalk-shape'])\n",
        "dataset['stalk-shape'].unique()\n",
        "print(dataset['stalk-shape'])\n",
        "\n",
        "# 0 -> e = enlarging\n",
        "# 1 -> t = tapering"
      ],
      "metadata": {
        "collapsed": true,
        "id": "3pdEsQ43EM-V",
        "colab": {
          "base_uri": "https://localhost:8080/"
        },
        "outputId": "f25959a4-764f-4d48-a092-dd9af23cfa39"
      },
      "execution_count": null,
      "outputs": [
        {
          "output_type": "stream",
          "name": "stdout",
          "text": [
            "0      0\n",
            "1      0\n",
            "2      0\n",
            "3      0\n",
            "4      1\n",
            "      ..\n",
            "244    1\n",
            "245    0\n",
            "246    1\n",
            "247    0\n",
            "248    0\n",
            "Name: gill-spacing, Length: 249, dtype: int64\n",
            "0      2\n",
            "1      2\n",
            "2      3\n",
            "3      3\n",
            "4      2\n",
            "      ..\n",
            "244    4\n",
            "245    5\n",
            "246    4\n",
            "247    3\n",
            "248    5\n",
            "Name: gill-color, Length: 249, dtype: int64\n",
            "0      0\n",
            "1      0\n",
            "2      0\n",
            "3      0\n",
            "4      1\n",
            "      ..\n",
            "244    1\n",
            "245    0\n",
            "246    1\n",
            "247    0\n",
            "248    0\n",
            "Name: stalk-shape, Length: 249, dtype: int64\n"
          ]
        }
      ]
    },
    {
      "cell_type": "code",
      "source": [
        "label_encoder = LabelEncoder()\n",
        "dataset['population'] = label_encoder.fit_transform(dataset['population'])\n",
        "dataset['population'].unique()\n",
        "print(dataset['population'])\n",
        "\n",
        "# 0 -> a = abundant\n",
        "# 1 -> n = numerous\n",
        "# 2 -> s = scattered\n",
        "# 3 -> v = several\n",
        "# 4 -> y = solitary\n",
        "\n",
        "label_encoder = LabelEncoder()\n",
        "dataset['habitat'] = label_encoder.fit_transform(dataset['habitat'])\n",
        "dataset['habitat'].unique()\n",
        "print(dataset['habitat'])\n",
        "\n",
        "# 0 -> d = woods\n",
        "# 1 -> g = grasses\n",
        "# 2 -> m = meadows\n",
        "# 3 -> p = paths\n",
        "# 4 -> u = urban\n",
        "\n",
        "label_encoder = LabelEncoder()\n",
        "dataset['class'] = label_encoder.fit_transform(dataset['class'])\n",
        "dataset['class'].unique()\n",
        "print(dataset['class'])\n",
        "\n",
        "# 0 -> e = edible\n",
        "# 1 -> p = poisonous\n",
        "\n"
      ],
      "metadata": {
        "id": "ld4wjFtuB0YB",
        "collapsed": true,
        "colab": {
          "base_uri": "https://localhost:8080/"
        },
        "outputId": "22fdc73b-4c18-481c-8638-efe42bf78840"
      },
      "execution_count": null,
      "outputs": [
        {
          "output_type": "stream",
          "name": "stdout",
          "text": [
            "0      2\n",
            "1      1\n",
            "2      1\n",
            "3      2\n",
            "4      0\n",
            "      ..\n",
            "244    3\n",
            "245    2\n",
            "246    3\n",
            "247    2\n",
            "248    4\n",
            "Name: population, Length: 249, dtype: int64\n",
            "0      4\n",
            "1      1\n",
            "2      2\n",
            "3      4\n",
            "4      1\n",
            "      ..\n",
            "244    0\n",
            "245    1\n",
            "246    0\n",
            "247    2\n",
            "248    3\n",
            "Name: habitat, Length: 249, dtype: int64\n",
            "0      1\n",
            "1      0\n",
            "2      0\n",
            "3      1\n",
            "4      0\n",
            "      ..\n",
            "244    0\n",
            "245    0\n",
            "246    0\n",
            "247    0\n",
            "248    0\n",
            "Name: class, Length: 249, dtype: int64\n"
          ]
        }
      ]
    },
    {
      "cell_type": "code",
      "source": [
        "from google.colab import drive\n",
        "drive.mount('/content/drive')"
      ],
      "metadata": {
        "id": "lEhbicK9onS-",
        "colab": {
          "base_uri": "https://localhost:8080/"
        },
        "outputId": "7d383519-795e-4999-df7b-648fb764d4e9"
      },
      "execution_count": null,
      "outputs": [
        {
          "output_type": "stream",
          "name": "stdout",
          "text": [
            "Drive already mounted at /content/drive; to attempt to forcibly remount, call drive.mount(\"/content/drive\", force_remount=True).\n"
          ]
        }
      ]
    },
    {
      "cell_type": "markdown",
      "metadata": {
        "id": "g16qFkFQVC35"
      },
      "source": [
        "## Training the Decision Tree Regression model on the whole dataset"
      ]
    },
    {
      "cell_type": "code",
      "source": [
        "x = dataset.iloc[:, 0:9].values\n",
        "y = dataset.iloc[:, 9].values"
      ],
      "metadata": {
        "id": "QGuPSQVXLjBC"
      },
      "execution_count": null,
      "outputs": []
    },
    {
      "cell_type": "code",
      "metadata": {
        "id": "SLDKyv1SVUqS",
        "collapsed": true,
        "colab": {
          "base_uri": "https://localhost:8080/",
          "height": 75
        },
        "outputId": "be3027c4-753d-4895-c748-225175ea085b"
      },
      "source": [
        "from sklearn.tree import DecisionTreeRegressor\n",
        "regressor = DecisionTreeRegressor(random_state = 0)\n",
        "regressor.fit(x,y)\n",
        "\n"
      ],
      "execution_count": null,
      "outputs": [
        {
          "output_type": "execute_result",
          "data": {
            "text/plain": [
              "DecisionTreeRegressor(random_state=0)"
            ],
            "text/html": [
              "<style>#sk-container-id-1 {color: black;background-color: white;}#sk-container-id-1 pre{padding: 0;}#sk-container-id-1 div.sk-toggleable {background-color: white;}#sk-container-id-1 label.sk-toggleable__label {cursor: pointer;display: block;width: 100%;margin-bottom: 0;padding: 0.3em;box-sizing: border-box;text-align: center;}#sk-container-id-1 label.sk-toggleable__label-arrow:before {content: \"▸\";float: left;margin-right: 0.25em;color: #696969;}#sk-container-id-1 label.sk-toggleable__label-arrow:hover:before {color: black;}#sk-container-id-1 div.sk-estimator:hover label.sk-toggleable__label-arrow:before {color: black;}#sk-container-id-1 div.sk-toggleable__content {max-height: 0;max-width: 0;overflow: hidden;text-align: left;background-color: #f0f8ff;}#sk-container-id-1 div.sk-toggleable__content pre {margin: 0.2em;color: black;border-radius: 0.25em;background-color: #f0f8ff;}#sk-container-id-1 input.sk-toggleable__control:checked~div.sk-toggleable__content {max-height: 200px;max-width: 100%;overflow: auto;}#sk-container-id-1 input.sk-toggleable__control:checked~label.sk-toggleable__label-arrow:before {content: \"▾\";}#sk-container-id-1 div.sk-estimator input.sk-toggleable__control:checked~label.sk-toggleable__label {background-color: #d4ebff;}#sk-container-id-1 div.sk-label input.sk-toggleable__control:checked~label.sk-toggleable__label {background-color: #d4ebff;}#sk-container-id-1 input.sk-hidden--visually {border: 0;clip: rect(1px 1px 1px 1px);clip: rect(1px, 1px, 1px, 1px);height: 1px;margin: -1px;overflow: hidden;padding: 0;position: absolute;width: 1px;}#sk-container-id-1 div.sk-estimator {font-family: monospace;background-color: #f0f8ff;border: 1px dotted black;border-radius: 0.25em;box-sizing: border-box;margin-bottom: 0.5em;}#sk-container-id-1 div.sk-estimator:hover {background-color: #d4ebff;}#sk-container-id-1 div.sk-parallel-item::after {content: \"\";width: 100%;border-bottom: 1px solid gray;flex-grow: 1;}#sk-container-id-1 div.sk-label:hover label.sk-toggleable__label {background-color: #d4ebff;}#sk-container-id-1 div.sk-serial::before {content: \"\";position: absolute;border-left: 1px solid gray;box-sizing: border-box;top: 0;bottom: 0;left: 50%;z-index: 0;}#sk-container-id-1 div.sk-serial {display: flex;flex-direction: column;align-items: center;background-color: white;padding-right: 0.2em;padding-left: 0.2em;position: relative;}#sk-container-id-1 div.sk-item {position: relative;z-index: 1;}#sk-container-id-1 div.sk-parallel {display: flex;align-items: stretch;justify-content: center;background-color: white;position: relative;}#sk-container-id-1 div.sk-item::before, #sk-container-id-1 div.sk-parallel-item::before {content: \"\";position: absolute;border-left: 1px solid gray;box-sizing: border-box;top: 0;bottom: 0;left: 50%;z-index: -1;}#sk-container-id-1 div.sk-parallel-item {display: flex;flex-direction: column;z-index: 1;position: relative;background-color: white;}#sk-container-id-1 div.sk-parallel-item:first-child::after {align-self: flex-end;width: 50%;}#sk-container-id-1 div.sk-parallel-item:last-child::after {align-self: flex-start;width: 50%;}#sk-container-id-1 div.sk-parallel-item:only-child::after {width: 0;}#sk-container-id-1 div.sk-dashed-wrapped {border: 1px dashed gray;margin: 0 0.4em 0.5em 0.4em;box-sizing: border-box;padding-bottom: 0.4em;background-color: white;}#sk-container-id-1 div.sk-label label {font-family: monospace;font-weight: bold;display: inline-block;line-height: 1.2em;}#sk-container-id-1 div.sk-label-container {text-align: center;}#sk-container-id-1 div.sk-container {/* jupyter's `normalize.less` sets `[hidden] { display: none; }` but bootstrap.min.css set `[hidden] { display: none !important; }` so we also need the `!important` here to be able to override the default hidden behavior on the sphinx rendered scikit-learn.org. See: https://github.com/scikit-learn/scikit-learn/issues/21755 */display: inline-block !important;position: relative;}#sk-container-id-1 div.sk-text-repr-fallback {display: none;}</style><div id=\"sk-container-id-1\" class=\"sk-top-container\"><div class=\"sk-text-repr-fallback\"><pre>DecisionTreeRegressor(random_state=0)</pre><b>In a Jupyter environment, please rerun this cell to show the HTML representation or trust the notebook. <br />On GitHub, the HTML representation is unable to render, please try loading this page with nbviewer.org.</b></div><div class=\"sk-container\" hidden><div class=\"sk-item\"><div class=\"sk-estimator sk-toggleable\"><input class=\"sk-toggleable__control sk-hidden--visually\" id=\"sk-estimator-id-1\" type=\"checkbox\" checked><label for=\"sk-estimator-id-1\" class=\"sk-toggleable__label sk-toggleable__label-arrow\">DecisionTreeRegressor</label><div class=\"sk-toggleable__content\"><pre>DecisionTreeRegressor(random_state=0)</pre></div></div></div></div></div>"
            ]
          },
          "metadata": {},
          "execution_count": 10
        }
      ]
    },
    {
      "cell_type": "markdown",
      "metadata": {
        "id": "MQRGPTH3VcOn"
      },
      "source": [
        "## Predicting a new result"
      ]
    },
    {
      "cell_type": "code",
      "metadata": {
        "id": "_FpGZf7vVgrK",
        "colab": {
          "base_uri": "https://localhost:8080/"
        },
        "outputId": "fb90c732-3458-44cf-bd24-45222a238367"
      },
      "source": [
        "#Test with unseen data\n",
        "#Answer should be 0\n",
        "\n",
        "regressor.predict([[3,2,2,0,0,3,0,2,1]])"
      ],
      "execution_count": null,
      "outputs": [
        {
          "output_type": "execute_result",
          "data": {
            "text/plain": [
              "array([0.])"
            ]
          },
          "metadata": {},
          "execution_count": 11
        }
      ]
    },
    {
      "cell_type": "code",
      "source": [
        "#Test with unseen data\n",
        "#Answer should be 0\n",
        "\n",
        "regressor.predict([[0,1,3,1,0,5,0,1,2]])"
      ],
      "metadata": {
        "id": "y3wlpryDux7I",
        "colab": {
          "base_uri": "https://localhost:8080/"
        },
        "outputId": "e884346d-2e3f-4d07-eec4-ca79dd4faee7"
      },
      "execution_count": null,
      "outputs": [
        {
          "output_type": "execute_result",
          "data": {
            "text/plain": [
              "array([0.])"
            ]
          },
          "metadata": {},
          "execution_count": 12
        }
      ]
    },
    {
      "cell_type": "code",
      "source": [
        "#Test with unseen data\n",
        "#Answer should be 0\n",
        "\n",
        "regressor.predict([[3,1,3,0,0,5,0,1,1]])"
      ],
      "metadata": {
        "id": "goDuO0jMvPat",
        "colab": {
          "base_uri": "https://localhost:8080/"
        },
        "outputId": "4b66ecf4-308c-4b6a-aa20-924a593e4aec"
      },
      "execution_count": null,
      "outputs": [
        {
          "output_type": "execute_result",
          "data": {
            "text/plain": [
              "array([0.])"
            ]
          },
          "metadata": {},
          "execution_count": 13
        }
      ]
    },
    {
      "cell_type": "code",
      "source": [
        "#Test with unseen data\n",
        "#Answer should be 0\n",
        "\n",
        "regressor.predict([[0,2,3,0,0,0,0,1,1]])"
      ],
      "metadata": {
        "id": "a4NDoMS7vTyb",
        "colab": {
          "base_uri": "https://localhost:8080/"
        },
        "outputId": "b42b0f6b-f62a-4a42-fa21-077d601f7b61"
      },
      "execution_count": null,
      "outputs": [
        {
          "output_type": "execute_result",
          "data": {
            "text/plain": [
              "array([0.])"
            ]
          },
          "metadata": {},
          "execution_count": 14
        }
      ]
    },
    {
      "cell_type": "code",
      "source": [
        "#Test with unseen data\n",
        "#Answer should be 0\n",
        "\n",
        "regressor.predict([[3,2,2,0,0,3,0,2,1]])"
      ],
      "metadata": {
        "id": "pPPTJagIvgtD",
        "colab": {
          "base_uri": "https://localhost:8080/"
        },
        "outputId": "037c4742-6307-4624-cb43-6f9442a0ee0e"
      },
      "execution_count": null,
      "outputs": [
        {
          "output_type": "execute_result",
          "data": {
            "text/plain": [
              "array([0.])"
            ]
          },
          "metadata": {},
          "execution_count": 15
        }
      ]
    },
    {
      "cell_type": "code",
      "source": [
        "#Test with unseen data\n",
        "#Answer should be 0\n",
        "\n",
        "regressor.predict([[3,1,2,1,0,0,0,1,2]])"
      ],
      "metadata": {
        "id": "4kPUUPOUvlFx",
        "colab": {
          "base_uri": "https://localhost:8080/"
        },
        "outputId": "a197d556-e581-408c-ddab-bbb24a822ad4"
      },
      "execution_count": null,
      "outputs": [
        {
          "output_type": "execute_result",
          "data": {
            "text/plain": [
              "array([0.])"
            ]
          },
          "metadata": {},
          "execution_count": 16
        }
      ]
    },
    {
      "cell_type": "code",
      "source": [
        "#Test with unseen data\n",
        "#Answer should be 0\n",
        "\n",
        "regressor.predict([[0,1,3,0,0,5,0,2,2]])"
      ],
      "metadata": {
        "id": "s3lqnEWyvpZf",
        "colab": {
          "base_uri": "https://localhost:8080/"
        },
        "outputId": "7b3aebd8-dc38-4cd1-c88a-38b10304e3e9"
      },
      "execution_count": null,
      "outputs": [
        {
          "output_type": "execute_result",
          "data": {
            "text/plain": [
              "array([0.])"
            ]
          },
          "metadata": {},
          "execution_count": 17
        }
      ]
    },
    {
      "cell_type": "code",
      "source": [
        "#Test with unseen data\n",
        "#Answer should be 0\n",
        "\n",
        "regressor.predict([[0,2,3,0,0,5,0,2,1]])"
      ],
      "metadata": {
        "id": "XoEG-YZ7v0OX",
        "colab": {
          "base_uri": "https://localhost:8080/"
        },
        "outputId": "6578ce72-3786-4f92-90e5-45a208c168ab"
      },
      "execution_count": null,
      "outputs": [
        {
          "output_type": "execute_result",
          "data": {
            "text/plain": [
              "array([0.])"
            ]
          },
          "metadata": {},
          "execution_count": 18
        }
      ]
    },
    {
      "cell_type": "code",
      "source": [
        "#Test with unseen data\n",
        "#Answer should be 1\n",
        "regressor.predict([[3,1,1,3,0,3,0,3,1]])"
      ],
      "metadata": {
        "id": "1KkyLW35p6zO",
        "colab": {
          "base_uri": "https://localhost:8080/"
        },
        "outputId": "7186a2f8-ea08-41d3-9991-9f2fac667694"
      },
      "execution_count": null,
      "outputs": [
        {
          "output_type": "execute_result",
          "data": {
            "text/plain": [
              "array([1.])"
            ]
          },
          "metadata": {},
          "execution_count": 19
        }
      ]
    },
    {
      "cell_type": "code",
      "source": [
        "#Test with unseen data\n",
        "#Answer should be 1\n",
        "\n",
        "regressor.predict([[3,2,1,3,0,2,0,2,4]])"
      ],
      "metadata": {
        "id": "4BX0MDsjxF0D",
        "colab": {
          "base_uri": "https://localhost:8080/"
        },
        "outputId": "52f3325d-8aee-4ac4-df89-cb1af65f0fcc"
      },
      "execution_count": null,
      "outputs": [
        {
          "output_type": "execute_result",
          "data": {
            "text/plain": [
              "array([1.])"
            ]
          },
          "metadata": {},
          "execution_count": 20
        }
      ]
    },
    {
      "cell_type": "code",
      "source": [
        "#Test with unseen data\n",
        "#Answer should be 1\n",
        "\n",
        "regressor.predict([[3,1,1,3,0,2,0,3,4]])"
      ],
      "metadata": {
        "id": "0ow_PzY-xKny",
        "colab": {
          "base_uri": "https://localhost:8080/"
        },
        "outputId": "1beac6c5-2206-4b75-8889-62b72c13efce"
      },
      "execution_count": null,
      "outputs": [
        {
          "output_type": "execute_result",
          "data": {
            "text/plain": [
              "array([1.])"
            ]
          },
          "metadata": {},
          "execution_count": 21
        }
      ]
    },
    {
      "cell_type": "markdown",
      "source": [],
      "metadata": {
        "id": "xNurctbobIm8"
      }
    },
    {
      "source": [
        "input1 = input(\"What is the cap shape?\\n 0 -> bell\\n 1 -> flat\\n 2 -> sunken\\n 3 -> convex:\")\n",
        "\n",
        "input2 = input(\"What is the cap surface?\\n 0 -> fibrous\\n 1 -> smooth\\n 2 -> scaly:\")\n",
        "\n",
        "input3 = input(\"What is the cap color?\\n 0 -> grey\\n 1 -> brown\\n 2 -> white\\n 3 -> yellow:\")\n",
        "\n",
        "input4 = input(\"What is the odor?\\n 0 -> almond\\n 1 -> anise\\n 2 -> none\\n 3 -> pungent:\")\n",
        "\n",
        "input5 = input(\"What is the gill spacing?\\n 0 -> close\\n 1 -> crowded:\")\n",
        "\n",
        "input6 = input(\"What is the gill color?\\n 0 -> grey\\n 1 -> chocolate\\n 2 -> black\\n 3 -> brown\\n 4 -> pink\\n 5 -> white:\")\n",
        "\n",
        "input7 = input(\"What is the stalk shape?\\n 0 -> enlarging\\n 1 -> tapering:\")\n",
        "\n",
        "input8 = input(\"What is the population?\\n 0 -> abundant\\n 1 -> numerous\\n 2 -> scattered\\n 3 -> several\\n 4 -> solitary:\")\n",
        "\n",
        "input9 = input(\"What is the habitat?\\n 0 -> woods\\n 1 -> grasses\\n 2 -> meadows\\n 3 -> paths\\n 4 -> urban:\")\n",
        "\n",
        "\n",
        "new_row = pd.DataFrame([[input1, input2, input3, input4, input5, input6, input7, input8, input9]], columns=['cap-shape','cap-surface','cap-color','odor','gill-spacing','gill-color','stalk-shape','population','habitat']) # Create a new DataFrame from the input\n",
        "dataset = pd.concat([dataset, new_row], ignore_index=True) # Concatenate the new row to the existing DataFrame\n",
        "\n",
        "\n",
        "print(dataset)"
      ],
      "cell_type": "code",
      "metadata": {
        "id": "cq3UEHktgP3M"
      },
      "execution_count": null,
      "outputs": []
    },
    {
      "cell_type": "code",
      "source": [
        "if(regressor.predict([[input1, input2, input3, input4, input5, input6, input7, input8, input9]])==1):\n",
        "  print(\"Poisonous\")\n",
        "else:\n",
        "  print(\"Edible\")"
      ],
      "metadata": {
        "id": "R7Db-FM3xqGt"
      },
      "execution_count": null,
      "outputs": []
    }
  ]
}